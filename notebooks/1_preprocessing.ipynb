{
 "cells": [
  {
   "cell_type": "markdown",
   "metadata": {},
   "source": [
    "# Diabetes Patients Early Readmissions Prediction\n",
    "\n",
    "**Authors:** Peter Macinec, Frantisek Sefcik"
   ]
  },
  {
   "cell_type": "markdown",
   "metadata": {},
   "source": [
    "## Data Preprocessing\n",
    "\n",
    "In this jupyter notebook, we will try to preprocess the data, create functions for preprocessing and define preprocessing pipeline.\n",
    "\n",
    "### Setup and import libraries"
   ]
  },
  {
   "cell_type": "markdown",
   "metadata": {},
   "source": [
    "# TODO\n",
    "\n",
    "- drop attributes with too many values\n",
    "- encoding values (one-hot)\n",
    "- oversampling/undersampling\n",
    "- outliers removal?\n",
    "- categorical with too few values into \"other\"?\n",
    "- age can be converted to average\n",
    "- drop those attributes, containing just one value (`citoglipton` and `examide`)\n",
    "- drop row where all diagnoses are missing\n",
    "- drop/fill records with unknown gender\n",
    "- join encounters of one patient?\n",
    "- parts from feature engineering"
   ]
  }
 ],
 "metadata": {
  "kernelspec": {
   "display_name": "Python 3",
   "language": "python",
   "name": "python3"
  },
  "language_info": {
   "codemirror_mode": {
    "name": "ipython",
    "version": 3
   },
   "file_extension": ".py",
   "mimetype": "text/x-python",
   "name": "python",
   "nbconvert_exporter": "python",
   "pygments_lexer": "ipython3",
   "version": "3.7.6"
  }
 },
 "nbformat": 4,
 "nbformat_minor": 4
}
